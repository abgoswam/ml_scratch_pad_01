{
 "cells": [
  {
   "cell_type": "code",
   "execution_count": 1,
   "id": "2b865737",
   "metadata": {},
   "outputs": [
    {
     "name": "stdout",
     "output_type": "stream",
     "text": [
      "=== Basic Einsum Examples ===\n",
      "\n"
     ]
    }
   ],
   "source": [
    "import numpy as np\n",
    "import torch\n",
    "\n",
    "# Basic einsum concepts:\n",
    "# - Each dimension gets a letter (i, j, k, etc.)\n",
    "# - If a letter appears on both sides of ->, it's kept\n",
    "# - If a letter appears only on the left, it's summed over\n",
    "# - If a letter appears multiple times on the left, those dimensions are multiplied element-wise\n",
    "\n",
    "print(\"=== Basic Einsum Examples ===\\n\")\n"
   ]
  },
  {
   "cell_type": "code",
   "execution_count": 2,
   "id": "282b7553",
   "metadata": {},
   "outputs": [],
   "source": [
    "# 1. Vector dot product\n",
    "# Traditional: np.dot(a, b) or a @ b\n",
    "a = np.array([1, 2, 3])\n",
    "b = np.array([4, 5, 6])\n"
   ]
  },
  {
   "cell_type": "code",
   "execution_count": 5,
   "id": "ee2bda98",
   "metadata": {},
   "outputs": [
    {
     "name": "stdout",
     "output_type": "stream",
     "text": [
      "(3,)\n",
      "(3,)\n",
      "32\n"
     ]
    }
   ],
   "source": [
    "print(a.shape)\n",
    "print(b.shape)\n",
    "print(np.dot(a,b))"
   ]
  },
  {
   "cell_type": "code",
   "execution_count": 8,
   "id": "b4a61665",
   "metadata": {},
   "outputs": [
    {
     "data": {
      "text/plain": [
       "np.int64(15)"
      ]
     },
     "execution_count": 8,
     "metadata": {},
     "output_type": "execute_result"
    }
   ],
   "source": [
    "np.einsum('i->', b)"
   ]
  },
  {
   "cell_type": "code",
   "execution_count": 9,
   "id": "bdb0e4ef",
   "metadata": {},
   "outputs": [
    {
     "data": {
      "text/plain": [
       "np.int64(32)"
      ]
     },
     "execution_count": 9,
     "metadata": {},
     "output_type": "execute_result"
    }
   ],
   "source": [
    "np.einsum('i,i->', a, b)"
   ]
  },
  {
   "cell_type": "code",
   "execution_count": 12,
   "id": "b291bf14",
   "metadata": {},
   "outputs": [
    {
     "name": "stdout",
     "output_type": "stream",
     "text": [
      "[[1 2]\n",
      " [3 4]\n",
      " [5 6]]\n",
      "(3, 2)\n",
      "(2,)\n"
     ]
    }
   ],
   "source": [
    "# 2. Matrix-vector multiplication\n",
    "# Traditional: A @ v\n",
    "A = np.array([[1, 2], [3, 4], [5, 6]])\n",
    "v = np.array([7, 8])\n",
    "\n",
    "print(A)\n",
    "print(A.shape)\n",
    "print(v.shape)"
   ]
  },
  {
   "cell_type": "code",
   "execution_count": 11,
   "id": "65e8ab33",
   "metadata": {},
   "outputs": [
    {
     "data": {
      "text/plain": [
       "array([23, 53, 83])"
      ]
     },
     "execution_count": 11,
     "metadata": {},
     "output_type": "execute_result"
    }
   ],
   "source": [
    "A @ v"
   ]
  },
  {
   "cell_type": "code",
   "execution_count": 13,
   "id": "92d29c44",
   "metadata": {},
   "outputs": [
    {
     "name": "stdout",
     "output_type": "stream",
     "text": [
      "Matrix-vector multiplication:\n",
      "A shape: (3, 2), v shape: (2,)\n",
      "Traditional: [23 53 83]\n",
      "Einsum 'ij,j->i': [23 53 83]\n",
      "\n"
     ]
    }
   ],
   "source": [
    "mv_traditional = A @ v\n",
    "mv_einsum = np.einsum('ij,j->i', A, v)\n",
    "print(f\"Matrix-vector multiplication:\")\n",
    "print(f\"A shape: {A.shape}, v shape: {v.shape}\")\n",
    "print(f\"Traditional: {mv_traditional}\")\n",
    "print(f\"Einsum 'ij,j->i': {mv_einsum}\")\n",
    "print()"
   ]
  },
  {
   "cell_type": "code",
   "execution_count": 14,
   "id": "82bc98f4",
   "metadata": {},
   "outputs": [
    {
     "data": {
      "text/plain": [
       "np.int64(159)"
      ]
     },
     "execution_count": 14,
     "metadata": {},
     "output_type": "execute_result"
    }
   ],
   "source": [
    "np.einsum('ij,j->', A, v)"
   ]
  },
  {
   "cell_type": "code",
   "execution_count": 17,
   "id": "1c5bd089",
   "metadata": {},
   "outputs": [
    {
     "name": "stdout",
     "output_type": "stream",
     "text": [
      "[[1 2 3]\n",
      " [4 5 6]]\n",
      "[[ 7  8]\n",
      " [ 9 10]\n",
      " [11 12]]\n",
      "(2, 3)\n",
      "(3, 2)\n"
     ]
    }
   ],
   "source": [
    "# 3. Matrix multiplication\n",
    "# Traditional: A @ B\n",
    "\n",
    "# Let me show with proper matrix multiplication dimensions:\n",
    "A = np.array([[1, 2, 3],    # shape (2, 3) - 2 rows, 3 columns\n",
    "              [4, 5, 6]])\n",
    "\n",
    "B = np.array([[7, 8],       # shape (3, 2) - 3 rows, 2 columns  \n",
    "              [9, 10],\n",
    "              [11, 12]])\n",
    "\n",
    "print(A)\n",
    "print(B)\n",
    "print(A.shape)\n",
    "print(B.shape)"
   ]
  },
  {
   "cell_type": "code",
   "execution_count": 18,
   "id": "de18c076",
   "metadata": {},
   "outputs": [
    {
     "name": "stdout",
     "output_type": "stream",
     "text": [
      "Matrix multiplication:\n",
      "A shape: (2, 3), B shape: (3, 2)\n",
      "Traditional:\n",
      "[[ 58  64]\n",
      " [139 154]]\n",
      "Einsum 'ij,jk->ik':\n",
      "[[ 58  64]\n",
      " [139 154]]\n",
      "\n"
     ]
    }
   ],
   "source": [
    "mm_traditional = A @ B\n",
    "mm_einsum = np.einsum('ij,jk->ik', A, B)\n",
    "print(f\"Matrix multiplication:\")\n",
    "print(f\"A shape: {A.shape}, B shape: {B.shape}\")\n",
    "print(f\"Traditional:\\n{mm_traditional}\")\n",
    "print(f\"Einsum 'ij,jk->ik':\\n{mm_einsum}\")\n",
    "print()"
   ]
  },
  {
   "cell_type": "code",
   "execution_count": 19,
   "id": "f9d8f875",
   "metadata": {},
   "outputs": [
    {
     "name": "stdout",
     "output_type": "stream",
     "text": [
      "Element-wise multiplication:\n",
      "Traditional:\n",
      "[[ 5 12]\n",
      " [21 32]]\n",
      "Einsum 'ij,ij->ij':\n",
      "[[ 5 12]\n",
      " [21 32]]\n",
      "\n"
     ]
    }
   ],
   "source": [
    "# 4. Element-wise multiplication (Hadamard product)\n",
    "A = np.array([[1, 2], [3, 4]])\n",
    "B = np.array([[5, 6], [7, 8]])\n",
    "hadamard_traditional = A * B\n",
    "hadamard_einsum = np.einsum('ij,ij->ij', A, B)\n",
    "print(f\"Element-wise multiplication:\")\n",
    "print(f\"Traditional:\\n{hadamard_traditional}\")\n",
    "print(f\"Einsum 'ij,ij->ij':\\n{hadamard_einsum}\")\n",
    "print()"
   ]
  },
  {
   "cell_type": "code",
   "execution_count": 20,
   "id": "6b62d2e0",
   "metadata": {},
   "outputs": [
    {
     "name": "stdout",
     "output_type": "stream",
     "text": [
      "Sum operations on matrix:\n",
      "[[1 2 3]\n",
      " [4 5 6]]\n",
      "Sum all 'ij->': 21\n",
      "Sum along columns 'ij->i': [ 6 15]\n",
      "Sum along rows 'ij->j': [5 7 9]\n",
      "\n"
     ]
    }
   ],
   "source": [
    "# 5. Sum operations\n",
    "matrix = np.array([[1, 2, 3], [4, 5, 6]])\n",
    "sum_all = np.einsum('ij->', matrix)  # Sum all elements\n",
    "sum_rows = np.einsum('ij->i', matrix)  # Sum along columns (result has row index)\n",
    "sum_cols = np.einsum('ij->j', matrix)  # Sum along rows (result has column index)\n",
    "print(f\"Sum operations on matrix:\\n{matrix}\")\n",
    "print(f\"Sum all 'ij->': {sum_all}\")\n",
    "print(f\"Sum along columns 'ij->i': {sum_rows}\")\n",
    "print(f\"Sum along rows 'ij->j': {sum_cols}\")\n",
    "print()"
   ]
  },
  {
   "cell_type": "code",
   "execution_count": 21,
   "id": "7b50282c",
   "metadata": {},
   "outputs": [
    {
     "name": "stdout",
     "output_type": "stream",
     "text": [
      "Transpose:\n",
      "Original:\n",
      "[[1 2 3]\n",
      " [4 5 6]]\n",
      "Traditional .T:\n",
      "[[1 4]\n",
      " [2 5]\n",
      " [3 6]]\n",
      "Einsum 'ij->ji':\n",
      "[[1 4]\n",
      " [2 5]\n",
      " [3 6]]\n",
      "\n"
     ]
    }
   ],
   "source": [
    "# 6. Transpose\n",
    "matrix = np.array([[1, 2, 3], [4, 5, 6]])\n",
    "transpose_traditional = matrix.T\n",
    "transpose_einsum = np.einsum('ij->ji', matrix)\n",
    "print(f\"Transpose:\")\n",
    "print(f\"Original:\\n{matrix}\")\n",
    "print(f\"Traditional .T:\\n{transpose_traditional}\")\n",
    "print(f\"Einsum 'ij->ji':\\n{transpose_einsum}\")\n",
    "print()"
   ]
  },
  {
   "cell_type": "code",
   "execution_count": 22,
   "id": "6a56a2f5",
   "metadata": {},
   "outputs": [
    {
     "name": "stdout",
     "output_type": "stream",
     "text": [
      "Batch matrix multiplication:\n",
      "batch_A shape: (3, 4, 5)\n",
      "batch_B shape: (3, 5, 2)\n",
      "Result shape: (3, 4, 2)\n",
      "Einsum 'bij,bjk->bik' multiplies corresponding matrices in each batch\n",
      "\n",
      "=== Key Einsum Rules ===\n",
      "1. Each unique letter represents a dimension\n",
      "2. Repeated letters on the left side get multiplied element-wise\n",
      "3. Letters that appear only on left side get summed over\n",
      "4. Letters on the right side specify output dimensions\n",
      "5. Order of letters on right side determines output shape\n"
     ]
    }
   ],
   "source": [
    "# 7. Batch operations\n",
    "# Batch matrix multiplication\n",
    "batch_A = np.random.randn(3, 4, 5)  # 3 matrices of size 4x5\n",
    "batch_B = np.random.randn(3, 5, 2)  # 3 matrices of size 5x2\n",
    "batch_mm = np.einsum('bij,bjk->bik', batch_A, batch_B)\n",
    "print(f\"Batch matrix multiplication:\")\n",
    "print(f\"batch_A shape: {batch_A.shape}\")\n",
    "print(f\"batch_B shape: {batch_B.shape}\")\n",
    "print(f\"Result shape: {batch_mm.shape}\")\n",
    "print(\"Einsum 'bij,bjk->bik' multiplies corresponding matrices in each batch\")\n",
    "print()\n",
    "\n",
    "print(\"=== Key Einsum Rules ===\")\n",
    "print(\"1. Each unique letter represents a dimension\")\n",
    "print(\"2. Repeated letters on the left side get multiplied element-wise\")\n",
    "print(\"3. Letters that appear only on left side get summed over\")\n",
    "print(\"4. Letters on the right side specify output dimensions\")\n",
    "print(\"5. Order of letters on right side determines output shape\")"
   ]
  },
  {
   "cell_type": "code",
   "execution_count": null,
   "id": "7095059a",
   "metadata": {},
   "outputs": [],
   "source": []
  }
 ],
 "metadata": {
  "kernelspec": {
   "display_name": "pytorch_gpu_0712",
   "language": "python",
   "name": "python3"
  },
  "language_info": {
   "codemirror_mode": {
    "name": "ipython",
    "version": 3
   },
   "file_extension": ".py",
   "mimetype": "text/x-python",
   "name": "python",
   "nbconvert_exporter": "python",
   "pygments_lexer": "ipython3",
   "version": "3.10.18"
  }
 },
 "nbformat": 4,
 "nbformat_minor": 5
}
