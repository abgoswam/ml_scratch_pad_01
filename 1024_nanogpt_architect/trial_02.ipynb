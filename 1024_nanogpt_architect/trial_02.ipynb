{
 "cells": [
  {
   "cell_type": "code",
   "execution_count": 14,
   "id": "132b4083",
   "metadata": {},
   "outputs": [],
   "source": [
    "import tiktoken\n",
    "import torch"
   ]
  },
  {
   "cell_type": "code",
   "execution_count": 15,
   "id": "c2886d8d",
   "metadata": {},
   "outputs": [],
   "source": [
    "tokenizer = tiktoken.get_encoding(\"gpt2\")"
   ]
  },
  {
   "cell_type": "code",
   "execution_count": 16,
   "id": "0c2efc4c",
   "metadata": {},
   "outputs": [],
   "source": [
    "toks = [31373, 995, 703, 374, 334, 5633, 198, 198, 464, 717, 1517, 345, 761, 284]"
   ]
  },
  {
   "cell_type": "code",
   "execution_count": 17,
   "id": "a7f33992",
   "metadata": {},
   "outputs": [
    {
     "data": {
      "text/plain": [
       "'hello world how r u ?\\n\\nThe first thing you need to'"
      ]
     },
     "execution_count": 17,
     "metadata": {},
     "output_type": "execute_result"
    }
   ],
   "source": [
    "tokenizer.decode(toks)"
   ]
  },
  {
   "cell_type": "code",
   "execution_count": 18,
   "id": "45b781a5",
   "metadata": {},
   "outputs": [
    {
     "data": {
      "text/plain": [
       "'hello world how r u ?\\n\\nThe first thing you need to'"
      ]
     },
     "execution_count": 18,
     "metadata": {},
     "output_type": "execute_result"
    }
   ],
   "source": [
    "prompt_toks = [31373, 995, 703, 374, 334, 5633, \n",
    "               torch.tensor([[198]]), \n",
    "               torch.tensor([[198]]), \n",
    "               torch.tensor([[464]]), \n",
    "               torch.tensor([[717]]), \n",
    "               torch.tensor([[1517]]), \n",
    "               torch.tensor([[345]]), \n",
    "               torch.tensor([[761]]), \n",
    "               torch.tensor([[284]])]\n",
    "\n",
    "tokenizer.decode(toks)"
   ]
  },
  {
   "cell_type": "code",
   "execution_count": null,
   "id": "a1bc2734",
   "metadata": {},
   "outputs": [],
   "source": []
  }
 ],
 "metadata": {
  "kernelspec": {
   "display_name": "rl_0907",
   "language": "python",
   "name": "python3"
  },
  "language_info": {
   "codemirror_mode": {
    "name": "ipython",
    "version": 3
   },
   "file_extension": ".py",
   "mimetype": "text/x-python",
   "name": "python",
   "nbconvert_exporter": "python",
   "pygments_lexer": "ipython3",
   "version": "3.10.18"
  }
 },
 "nbformat": 4,
 "nbformat_minor": 5
}
