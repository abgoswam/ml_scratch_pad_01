{
 "cells": [
  {
   "cell_type": "markdown",
   "id": "47ef53e5",
   "metadata": {},
   "source": [
    "# Variance Scaling Example\n",
    "\n",
    "This notebook demonstrates how multiplying data by a constant affects variance using simple examples."
   ]
  },
  {
   "cell_type": "code",
   "execution_count": 1,
   "id": "2e9bab9b",
   "metadata": {},
   "outputs": [
    {
     "data": {
      "text/plain": [
       "<torch._C.Generator at 0x77609fd0c7b0>"
      ]
     },
     "execution_count": 1,
     "metadata": {},
     "output_type": "execute_result"
    }
   ],
   "source": [
    "import numpy as np\n",
    "import torch\n",
    "\n",
    "# Set seed for reproducibility\n",
    "np.random.seed(42)\n",
    "torch.manual_seed(42)"
   ]
  },
  {
   "cell_type": "markdown",
   "id": "cc006ed2",
   "metadata": {},
   "source": [
    "## Example 1: Simple Integer Array\n",
    "\n",
    "Let's start with a simple array: [1, 2, 3]"
   ]
  },
  {
   "cell_type": "code",
   "execution_count": 2,
   "id": "26917dd4",
   "metadata": {},
   "outputs": [
    {
     "name": "stdout",
     "output_type": "stream",
     "text": [
      "Original data: [1 2 3]\n",
      "Mean: 2.0\n",
      "Variance: 0.667\n",
      "\n",
      "Step-by-step variance calculation:\n",
      "Mean = (1 + 2 + 3) / 3 = 2.0\n",
      "Deviations from mean: [-1.  0.  1.]\n",
      "Squared deviations: [1. 0. 1.]\n",
      "Variance = sum of squared deviations / n = 0.667\n"
     ]
    }
   ],
   "source": [
    "# Original data\n",
    "data = np.array([1, 2, 3])\n",
    "\n",
    "# Calculate mean and variance\n",
    "mean_original = np.mean(data)\n",
    "var_original = np.var(data)\n",
    "\n",
    "print(f\"Original data: {data}\")\n",
    "print(f\"Mean: {mean_original}\")\n",
    "print(f\"Variance: {var_original:.3f}\")\n",
    "print()\n",
    "\n",
    "# Calculate step by step\n",
    "print(\"Step-by-step variance calculation:\")\n",
    "print(f\"Mean = (1 + 2 + 3) / 3 = {mean_original}\")\n",
    "deviations = data - mean_original\n",
    "squared_deviations = deviations**2\n",
    "print(f\"Deviations from mean: {deviations}\")\n",
    "print(f\"Squared deviations: {squared_deviations}\")\n",
    "print(f\"Variance = sum of squared deviations / n = {np.sum(squared_deviations)/len(data):.3f}\")"
   ]
  },
  {
   "cell_type": "markdown",
   "id": "4ce521f0",
   "metadata": {},
   "source": [
    "## What happens when we multiply by 2?"
   ]
  },
  {
   "cell_type": "code",
   "execution_count": 3,
   "id": "1cff5946",
   "metadata": {},
   "outputs": [
    {
     "name": "stdout",
     "output_type": "stream",
     "text": [
      "Scaled data (×2): [2 4 6]\n",
      "New mean: 4.0\n",
      "New variance: 2.667\n",
      "\n"
     ]
    }
   ],
   "source": [
    "# Multiply by 2\n",
    "scale_factor = 2\n",
    "scaled_data = data * scale_factor\n",
    "\n",
    "mean_scaled = np.mean(scaled_data)\n",
    "var_scaled = np.var(scaled_data)\n",
    "\n",
    "print(f\"Scaled data (×{scale_factor}): {scaled_data}\")\n",
    "print(f\"New mean: {mean_scaled}\")\n",
    "print(f\"New variance: {var_scaled:.3f}\")\n",
    "print()"
   ]
  },
  {
   "cell_type": "code",
   "execution_count": null,
   "id": "f0bd176b",
   "metadata": {},
   "outputs": [],
   "source": [
    "print(\"The scaling rule:\")\n",
    "print(f\"Original variance: {var_original:.3f}\")\n",
    "print(f\"Scale factor: {scale_factor}\")\n",
    "print(f\"Predicted new variance: {scale_factor}² × {var_original:.3f} = {scale_factor**2 * var_original:.3f}\")\n",
    "print(f\"Actual new variance: {var_scaled:.3f}\")\n",
    "print(f\"✓ They match!\")"
   ]
  },
  {
   "cell_type": "markdown",
   "id": "8b9dae46",
   "metadata": {},
   "source": [
    "## Now, let's get variance = 4\n",
    "\n",
    "We want to scale our original data [1, 2, 3] to have variance = 4"
   ]
  },
  {
   "cell_type": "code",
   "execution_count": null,
   "id": "9b57facd",
   "metadata": {},
   "outputs": [],
   "source": [
    "# We want variance = 4\n",
    "target_variance = 4\n",
    "\n",
    "# Using the scaling rule: new_variance = scale_factor² × original_variance\n",
    "# So: scale_factor² = target_variance / original_variance\n",
    "# Therefore: scale_factor = sqrt(target_variance / original_variance)\n",
    "\n",
    "required_scale_factor = np.sqrt(target_variance / var_original)\n",
    "print(f\"To get variance = {target_variance}:\")\n",
    "print(f\"Required scale factor = √({target_variance} / {var_original:.3f}) = √{target_variance/var_original:.2f} = {required_scale_factor:.3f}\")\n",
    "\n",
    "# Apply the scaling\n",
    "final_data = data * required_scale_factor\n",
    "final_variance = np.var(final_data)\n",
    "\n",
    "print(f\"\\nOriginal data: {data}\")\n",
    "print(f\"Scaled data (×{required_scale_factor:.3f}): {final_data}\")\n",
    "print(f\"Final variance: {final_variance:.3f}\")\n",
    "print(f\"Target variance: {target_variance}\")\n",
    "print(f\"✓ Success! We achieved variance = {target_variance}\")"
   ]
  },
  {
   "cell_type": "markdown",
   "id": "6d4f1a0f",
   "metadata": {},
   "source": [
    "## PyTorch Example: From variance=1 to variance=5\n",
    "\n",
    "This is exactly what we do in our LayerNorm code!"
   ]
  }
 ],
 "metadata": {
  "kernelspec": {
   "display_name": "pytorch_gpu_0710",
   "language": "python",
   "name": "python3"
  },
  "language_info": {
   "codemirror_mode": {
    "name": "ipython",
    "version": 3
   },
   "file_extension": ".py",
   "mimetype": "text/x-python",
   "name": "python",
   "nbconvert_exporter": "python",
   "pygments_lexer": "ipython3",
   "version": "3.10.18"
  }
 },
 "nbformat": 4,
 "nbformat_minor": 5
}
