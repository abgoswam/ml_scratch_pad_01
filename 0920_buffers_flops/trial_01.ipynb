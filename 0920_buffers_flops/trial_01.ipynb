{
 "cells": [
  {
   "cell_type": "code",
   "execution_count": 5,
   "id": "7a693446",
   "metadata": {},
   "outputs": [
    {
     "name": "stdout",
     "output_type": "stream",
     "text": [
      "torch.Size([2, 2, 3])\n",
      "torch.Size([2, 3])\n",
      "tensor([[[0.1000, 0.3000, 0.5000],\n",
      "         [0.2000, 0.4000, 0.6000]],\n",
      "\n",
      "        [[0.1000, 0.3000, 0.5000],\n",
      "         [0.2000, 0.4000, 0.6000]]])\n",
      "tensor([[[0.1000,   -inf, 0.5000],\n",
      "         [0.2000, 0.4000,   -inf]],\n",
      "\n",
      "        [[0.1000,   -inf, 0.5000],\n",
      "         [0.2000, 0.4000,   -inf]]])\n",
      "torch.Size([2, 2, 3])\n"
     ]
    }
   ],
   "source": [
    "import torch\n",
    "\n",
    "scores = torch.tensor([[0.1, 0.3, 0.5],\n",
    "                       [0.2, 0.4, 0.6]])\n",
    "scores = torch.stack([scores, scores])\n",
    "\n",
    "print(scores.shape)\n",
    "\n",
    "mask = torch.tensor([[False, True, False],\n",
    "                     [False, False, True]])\n",
    "\n",
    "print(mask.shape)\n",
    "\n",
    "masked_scores = scores.masked_fill(mask, float('-inf'))\n",
    "\n",
    "print(scores)\n",
    "print(masked_scores)\n",
    "print(masked_scores.shape)"
   ]
  },
  {
   "cell_type": "code",
   "execution_count": null,
   "id": "6e9de60a",
   "metadata": {},
   "outputs": [],
   "source": []
  }
 ],
 "metadata": {
  "kernelspec": {
   "display_name": "pytorch_gpu_0712",
   "language": "python",
   "name": "python3"
  },
  "language_info": {
   "codemirror_mode": {
    "name": "ipython",
    "version": 3
   },
   "file_extension": ".py",
   "mimetype": "text/x-python",
   "name": "python",
   "nbconvert_exporter": "python",
   "pygments_lexer": "ipython3",
   "version": "3.10.18"
  }
 },
 "nbformat": 4,
 "nbformat_minor": 5
}
