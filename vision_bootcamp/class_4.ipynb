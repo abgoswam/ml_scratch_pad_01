{
 "cells": [
  {
   "cell_type": "code",
   "execution_count": 3,
   "id": "c6757463",
   "metadata": {},
   "outputs": [],
   "source": [
    "import torch\n",
    "\n",
    "inputs = torch.tensor(\n",
    "  [[0.72, 0.45, 0.31], # Dream   (x^1)\n",
    "   [0.75, 0.20, 0.55], # big     (x^2)\n",
    "   [0.30, 0.80, 0.40], # and     (x^3)\n",
    "   [0.85, 0.35, 0.60], # work    (x^4)\n",
    "   [0.55, 0.15, 0.75], # for     (x^5)\n",
    "   [0.25, 0.20, 0.85]] # it      (x^6)\n",
    ")"
   ]
  },
  {
   "cell_type": "code",
   "execution_count": 4,
   "id": "970b07dc",
   "metadata": {},
   "outputs": [
    {
     "name": "stdout",
     "output_type": "stream",
     "text": [
      "tensor([0.7500, 0.2000, 0.5500])\n",
      "3\n",
      "2\n"
     ]
    }
   ],
   "source": [
    "# Corresponding words\n",
    "words = ['Dream', 'big', 'and', 'work', 'for', 'it']\n",
    "\n",
    "x_2 = inputs[1]\n",
    "d_in = inputs.shape[1]\n",
    "d_out = 2 #C\n",
    "print(x_2)\n",
    "print(d_in)\n",
    "print(d_out)"
   ]
  },
  {
   "cell_type": "code",
   "execution_count": 5,
   "id": "45af0de7",
   "metadata": {},
   "outputs": [
    {
     "name": "stdout",
     "output_type": "stream",
     "text": [
      "Parameter containing:\n",
      "tensor([[0.2961, 0.5166],\n",
      "        [0.2517, 0.6886],\n",
      "        [0.0740, 0.8665]])\n",
      "Parameter containing:\n",
      "tensor([[0.1366, 0.1025],\n",
      "        [0.1841, 0.7264],\n",
      "        [0.3153, 0.6871]])\n",
      "Parameter containing:\n",
      "tensor([[0.0756, 0.1966],\n",
      "        [0.3164, 0.4017],\n",
      "        [0.1186, 0.8274]])\n"
     ]
    }
   ],
   "source": [
    "torch.manual_seed(123)\n",
    "W_query = torch.nn.Parameter(torch.rand(d_in, d_out), requires_grad=False)\n",
    "W_key = torch.nn.Parameter(torch.rand(d_in, d_out), requires_grad=False)\n",
    "W_value = torch.nn.Parameter(torch.rand(d_in, d_out), requires_grad=False)\n",
    "print(W_query)\n",
    "print(W_key)\n",
    "print(W_value)"
   ]
  },
  {
   "cell_type": "code",
   "execution_count": 6,
   "id": "a2942c7e",
   "metadata": {},
   "outputs": [
    {
     "name": "stdout",
     "output_type": "stream",
     "text": [
      "tensor([0.3131, 1.0017])\n",
      "tensor([0.3126, 0.6001])\n",
      "tensor([0.1852, 0.6829])\n",
      "keys.shape: torch.Size([6, 2])\n",
      "values.shape: torch.Size([6, 2])\n",
      "queries.shape: torch.Size([6, 2])\n",
      "keys: tensor([[0.2789, 0.6137],\n",
      "        [0.3126, 0.6001],\n",
      "        [0.3143, 0.8867],\n",
      "        [0.3697, 0.7536],\n",
      "        [0.3392, 0.6807],\n",
      "        [0.3389, 0.7549]])\n",
      "queries: tensor([[0.3494, 0.9504],\n",
      "        [0.3131, 1.0017],\n",
      "        [0.3198, 1.0524],\n",
      "        [0.3842, 1.2000],\n",
      "        [0.2561, 1.0373],\n",
      "        [0.1872, 1.0034]])\n",
      "values: tensor([[0.2336, 0.5789],\n",
      "        [0.1852, 0.6829],\n",
      "        [0.3232, 0.7113],\n",
      "        [0.2462, 0.8042],\n",
      "        [0.1780, 0.7890],\n",
      "        [0.1830, 0.8328]])\n"
     ]
    }
   ],
   "source": [
    "query_2 = x_2 @ W_query\n",
    "key_2 = x_2 @ W_key\n",
    "value_2 = x_2 @ W_value\n",
    "\n",
    "print(query_2)\n",
    "print(key_2)\n",
    "print(value_2)\n",
    "\n",
    "keys = inputs @ W_key\n",
    "values = inputs @ W_value\n",
    "queries = inputs @ W_query\n",
    "\n",
    "print(\"keys.shape:\", keys.shape)\n",
    "print(\"values.shape:\", values.shape)\n",
    "print(\"queries.shape:\", queries.shape)\n",
    "\n",
    "print(\"keys:\", keys)\n",
    "print(\"queries:\", queries)\n",
    "print(\"values:\", values)"
   ]
  },
  {
   "cell_type": "code",
   "execution_count": 7,
   "id": "cfa96de6",
   "metadata": {},
   "outputs": [
    {
     "name": "stdout",
     "output_type": "stream",
     "text": [
      "tensor([0.7021, 0.6990, 0.9867, 0.8707, 0.7880, 0.8624])\n",
      "tensor([[0.6807, 0.6795, 0.9526, 0.8454, 0.7654, 0.8359],\n",
      "        [0.7021, 0.6990, 0.9867, 0.8707, 0.7880, 0.8624],\n",
      "        [0.7350, 0.7315, 1.0337, 0.9113, 0.8248, 0.9029],\n",
      "        [0.8436, 0.8402, 1.1848, 1.0464, 0.9471, 1.0361],\n",
      "        [0.7080, 0.7025, 1.0003, 0.8764, 0.7929, 0.8699],\n",
      "        [0.6680, 0.6606, 0.9486, 0.8254, 0.7465, 0.8210]])\n"
     ]
    }
   ],
   "source": [
    "attn_scores_2 = query_2 @ keys.T # All attention scores for given query\n",
    "print(attn_scores_2)\n",
    "\n",
    "attn_scores = queries @ keys.T # omega\n",
    "print(attn_scores)"
   ]
  },
  {
   "cell_type": "code",
   "execution_count": null,
   "id": "a347593e",
   "metadata": {},
   "outputs": [],
   "source": []
  }
 ],
 "metadata": {
  "kernelspec": {
   "display_name": "pytorch_gpu_0712",
   "language": "python",
   "name": "python3"
  },
  "language_info": {
   "codemirror_mode": {
    "name": "ipython",
    "version": 3
   },
   "file_extension": ".py",
   "mimetype": "text/x-python",
   "name": "python",
   "nbconvert_exporter": "python",
   "pygments_lexer": "ipython3",
   "version": "3.10.18"
  }
 },
 "nbformat": 4,
 "nbformat_minor": 5
}
