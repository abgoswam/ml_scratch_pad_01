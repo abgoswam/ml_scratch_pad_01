{
 "cells": [
  {
   "cell_type": "code",
   "execution_count": 1,
   "id": "a246b930",
   "metadata": {},
   "outputs": [],
   "source": [
    "import torch\n",
    "\n",
    "batch=2\n",
    "heads=4\n",
    "head_dim=3\n",
    "\n",
    "# Your current cache\n",
    "cache = torch.zeros(batch, heads, 10, head_dim)  # max_seq_len = 10"
   ]
  },
  {
   "cell_type": "code",
   "execution_count": 2,
   "id": "241a30c4",
   "metadata": {},
   "outputs": [
    {
     "data": {
      "text/plain": [
       "torch.Size([2, 4, 10, 3])"
      ]
     },
     "execution_count": 2,
     "metadata": {},
     "output_type": "execute_result"
    }
   ],
   "source": [
    "cache.shape"
   ]
  },
  {
   "cell_type": "code",
   "execution_count": 3,
   "id": "2139371f",
   "metadata": {},
   "outputs": [],
   "source": [
    "# Case 1: Adding a single token (generation phase)\n",
    "new_token = torch.ones(batch, heads, 1, head_dim)  # seq_len = 1"
   ]
  },
  {
   "cell_type": "code",
   "execution_count": 4,
   "id": "ca6cee2a",
   "metadata": {},
   "outputs": [
    {
     "data": {
      "text/plain": [
       "torch.Size([2, 4, 1, 3])"
      ]
     },
     "execution_count": 4,
     "metadata": {},
     "output_type": "execute_result"
    }
   ],
   "source": [
    "new_token.shape"
   ]
  },
  {
   "cell_type": "code",
   "execution_count": 6,
   "id": "b2eafc46",
   "metadata": {},
   "outputs": [],
   "source": [
    "start_pos=3"
   ]
  },
  {
   "cell_type": "code",
   "execution_count": 8,
   "id": "3a99a1e0",
   "metadata": {},
   "outputs": [
    {
     "data": {
      "text/plain": [
       "torch.Size([2, 4, 7, 3])"
      ]
     },
     "execution_count": 8,
     "metadata": {},
     "output_type": "execute_result"
    }
   ],
   "source": [
    "cache[:, :, start_pos:start_pos+7].shape"
   ]
  },
  {
   "cell_type": "code",
   "execution_count": null,
   "id": "482959ea",
   "metadata": {},
   "outputs": [],
   "source": []
  }
 ],
 "metadata": {
  "kernelspec": {
   "display_name": "pytorch_gpu_0712",
   "language": "python",
   "name": "python3"
  },
  "language_info": {
   "codemirror_mode": {
    "name": "ipython",
    "version": 3
   },
   "file_extension": ".py",
   "mimetype": "text/x-python",
   "name": "python",
   "nbconvert_exporter": "python",
   "pygments_lexer": "ipython3",
   "version": "3.10.18"
  }
 },
 "nbformat": 4,
 "nbformat_minor": 5
}
