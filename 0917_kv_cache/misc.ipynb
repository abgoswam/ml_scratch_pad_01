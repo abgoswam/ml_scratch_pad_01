{
 "cells": [
  {
   "cell_type": "code",
   "execution_count": 1,
   "id": "d17d20aa",
   "metadata": {},
   "outputs": [
    {
     "name": "stdout",
     "output_type": "stream",
     "text": [
      "Original tensor:\n",
      "tensor([[-0.8148, -1.6768,  1.5075, -1.6973],\n",
      "        [ 0.9960,  0.3291, -0.6550,  0.7242]])\n",
      "Shape: torch.Size([2, 4])\n",
      "\n",
      "Last 3 columns:\n",
      "tensor([[-1.6768,  1.5075, -1.6973],\n",
      "        [ 0.3291, -0.6550,  0.7242]])\n",
      "Shape: torch.Size([2, 3])\n"
     ]
    }
   ],
   "source": [
    "import torch\n",
    "\n",
    "# Create a random tensor of size (2, 4)\n",
    "tensor = torch.randn(2, 4)\n",
    "print(\"Original tensor:\")\n",
    "print(tensor)\n",
    "print(f\"Shape: {tensor.shape}\")\n",
    "\n",
    "# Select the last 3 columns\n",
    "last_3_columns = tensor[:, -3:]\n",
    "print(\"\\nLast 3 columns:\")\n",
    "print(last_3_columns)\n",
    "print(f\"Shape: {last_3_columns.shape}\")"
   ]
  },
  {
   "cell_type": "code",
   "execution_count": 3,
   "id": "3eeccf3f",
   "metadata": {},
   "outputs": [
    {
     "data": {
      "text/plain": [
       "tensor([ 1.5075, -0.6550])"
      ]
     },
     "execution_count": 3,
     "metadata": {},
     "output_type": "execute_result"
    }
   ],
   "source": [
    "tensor[:, -2]"
   ]
  },
  {
   "cell_type": "code",
   "execution_count": 4,
   "id": "61b3ca1f",
   "metadata": {},
   "outputs": [],
   "source": [
    "logits = torch.tensor([1,4,50257])"
   ]
  },
  {
   "cell_type": "code",
   "execution_count": 5,
   "id": "634b0b10",
   "metadata": {},
   "outputs": [
    {
     "name": "stdout",
     "output_type": "stream",
     "text": [
      "tensor([    1,     4, 50257])\n"
     ]
    }
   ],
   "source": [
    "print(logits)"
   ]
  },
  {
   "cell_type": "code",
   "execution_count": 6,
   "id": "b6e4b366",
   "metadata": {},
   "outputs": [
    {
     "data": {
      "text/plain": [
       "tensor(2)"
      ]
     },
     "execution_count": 6,
     "metadata": {},
     "output_type": "execute_result"
    }
   ],
   "source": [
    "torch.argmax(logits, dim=-1)"
   ]
  },
  {
   "cell_type": "code",
   "execution_count": 7,
   "id": "a8dc96fd",
   "metadata": {},
   "outputs": [
    {
     "name": "stdout",
     "output_type": "stream",
     "text": [
      "Original shape: torch.Size([1, 4, 50257])\n",
      "torch.argmax(logits, dim=-1) shape: torch.Size([1, 4])\n",
      "torch.argmax(logits, dim=0) shape: torch.Size([4, 50257])\n",
      "torch.argmax(logits, dim=1) shape: torch.Size([1, 50257])\n",
      "torch.argmax(logits, dim=2) shape: torch.Size([1, 4])\n",
      "torch.argmax(logits) shape: torch.Size([])\n"
     ]
    }
   ],
   "source": [
    "# Create a tensor with shape [1, 4, 50257]\n",
    "logits = torch.randn(1, 4, 50257)\n",
    "print(f\"Original shape: {logits.shape}\")\n",
    "\n",
    "# torch.argmax with different dim parameters\n",
    "result_dim_neg1 = torch.argmax(logits, dim=-1)  # Same as dim=2\n",
    "print(f\"torch.argmax(logits, dim=-1) shape: {result_dim_neg1.shape}\")\n",
    "\n",
    "result_dim_0 = torch.argmax(logits, dim=0)\n",
    "print(f\"torch.argmax(logits, dim=0) shape: {result_dim_0.shape}\")\n",
    "\n",
    "result_dim_1 = torch.argmax(logits, dim=1)\n",
    "print(f\"torch.argmax(logits, dim=1) shape: {result_dim_1.shape}\")\n",
    "\n",
    "result_dim_2 = torch.argmax(logits, dim=2)\n",
    "print(f\"torch.argmax(logits, dim=2) shape: {result_dim_2.shape}\")\n",
    "\n",
    "# Without specifying dim (flattens and finds global argmax)\n",
    "result_no_dim = torch.argmax(logits)\n",
    "print(f\"torch.argmax(logits) shape: {result_no_dim.shape}\")"
   ]
  },
  {
   "cell_type": "code",
   "execution_count": 10,
   "id": "80c637e8",
   "metadata": {},
   "outputs": [
    {
     "name": "stdout",
     "output_type": "stream",
     "text": [
      "Original tensor: tensor([10.5000,  3.2000, 15.8000,  7.1000])\n",
      "torch.argmax(x): 2\n",
      "Type: <class 'int'>\n",
      "torch.max(x): 15.800000190734863\n",
      "x[max_index]: 15.800000190734863\n",
      "\n",
      "2D tensor:\n",
      "tensor([[1., 5., 3.],\n",
      "        [2., 1., 4.]])\n",
      "argmax along dim=-1: tensor([1, 2])\n",
      "max along dim=-1: torch.return_types.max(\n",
      "values=tensor([5., 4.]),\n",
      "indices=tensor([1, 2]))\n"
     ]
    }
   ],
   "source": [
    "# Create a simple tensor to illustrate\n",
    "x = torch.tensor([10.5, 3.2, 15.8, 7.1])\n",
    "print(f\"Original tensor: {x}\")\n",
    "\n",
    "# torch.argmax returns the INDEX of the max value\n",
    "max_index = torch.argmax(x)\n",
    "print(f\"torch.argmax(x): {max_index}\")  # Returns 2 (the index)\n",
    "print(f\"Type: {type(max_index.item())}\")  # It's an integer index\n",
    "\n",
    "# To get the actual MAX VALUE, use torch.max\n",
    "max_value = torch.max(x)\n",
    "print(f\"torch.max(x): {max_value}\")  # Returns 15.8 (the actual value)\n",
    "\n",
    "# You can also use the index to get the value\n",
    "actual_max_value = x[max_index]\n",
    "print(f\"x[max_index]: {actual_max_value}\")  # Also returns 15.8\n",
    "\n",
    "# For 2D example\n",
    "y = torch.tensor([[1.0, 5.0, 3.0], \n",
    "                  [2.0, 1.0, 4.0]])\n",
    "print(f\"\\n2D tensor:\\n{y}\")\n",
    "print(f\"argmax along dim=-1: {torch.argmax(y, dim=-1)}\")  # [1, 2] - indices\n",
    "print(f\"max along dim=-1: {torch.max(y, dim=-1)}\")       # values and indices"
   ]
  },
  {
   "cell_type": "code",
   "execution_count": 12,
   "id": "a474155f",
   "metadata": {},
   "outputs": [
    {
     "data": {
      "text/plain": [
       "torch.return_types.max(\n",
       "values=tensor([5., 4.]),\n",
       "indices=tensor([1, 2]))"
      ]
     },
     "execution_count": 12,
     "metadata": {},
     "output_type": "execute_result"
    }
   ],
   "source": [
    "torch.max(y, dim=-1)"
   ]
  },
  {
   "cell_type": "code",
   "execution_count": null,
   "id": "25c58f2c",
   "metadata": {},
   "outputs": [],
   "source": []
  }
 ],
 "metadata": {
  "kernelspec": {
   "display_name": "pytorch_gpu_0710",
   "language": "python",
   "name": "python3"
  },
  "language_info": {
   "codemirror_mode": {
    "name": "ipython",
    "version": 3
   },
   "file_extension": ".py",
   "mimetype": "text/x-python",
   "name": "python",
   "nbconvert_exporter": "python",
   "pygments_lexer": "ipython3",
   "version": "3.10.18"
  }
 },
 "nbformat": 4,
 "nbformat_minor": 5
}
