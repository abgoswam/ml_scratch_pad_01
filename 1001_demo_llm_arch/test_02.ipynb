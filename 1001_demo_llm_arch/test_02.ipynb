{
 "cells": [
  {
   "cell_type": "code",
   "execution_count": 1,
   "id": "12a8e614",
   "metadata": {},
   "outputs": [
    {
     "name": "stdout",
     "output_type": "stream",
     "text": [
      "🚀 PyTorch Tensor Operations Tutorial\n",
      "==================================================\n",
      "\n",
      "📋 SECTION 1: Tensor Basics\n",
      "------------------------------\n",
      "x shape: torch.Size([2, 3]), dtype: torch.int64\n",
      "y shape: torch.Size([2, 3, 4]), dtype: torch.float32\n",
      "z shape: torch.Size([3, 3]), dtype: torch.float32\n",
      "\n",
      "Tensor x:\n",
      "tensor([[1, 2, 3],\n",
      "        [4, 5, 6]])\n",
      "\n",
      "Tensor x dimensions: 2\n",
      "Total elements in x: 6\n"
     ]
    }
   ],
   "source": [
    "import torch\n",
    "import numpy as np\n",
    "\n",
    "print(\"🚀 PyTorch Tensor Operations Tutorial\")\n",
    "print(\"=\" * 50)\n",
    "\n",
    "# Set random seed for reproducibility\n",
    "torch.manual_seed(42)\n",
    "\n",
    "# SECTION 1: TENSOR CREATION & BASIC PROPERTIES\n",
    "print(\"\\n📋 SECTION 1: Tensor Basics\")\n",
    "print(\"-\" * 30)\n",
    "\n",
    "# Create some example tensors\n",
    "x = torch.tensor([[1, 2, 3], \n",
    "                  [4, 5, 6]])\n",
    "y = torch.randn(2, 3, 4)\n",
    "z = torch.zeros(3, 3)\n",
    "\n",
    "print(f\"x shape: {x.shape}, dtype: {x.dtype}\")\n",
    "print(f\"y shape: {y.shape}, dtype: {y.dtype}\")\n",
    "print(f\"z shape: {z.shape}, dtype: {z.dtype}\")\n",
    "\n",
    "print(f\"\\nTensor x:\\n{x}\")\n",
    "print(f\"\\nTensor x dimensions: {x.ndim}\")\n",
    "print(f\"Total elements in x: {x.numel()}\")"
   ]
  },
  {
   "cell_type": "code",
   "execution_count": 13,
   "id": "ebe012ba",
   "metadata": {},
   "outputs": [],
   "source": [
    "original = torch.randn(2, 3, 4)\n",
    "view_result = original.view(6, 4)\n",
    "view_auto = original.view(-1, 8)"
   ]
  },
  {
   "cell_type": "code",
   "execution_count": 15,
   "id": "b27d95d4",
   "metadata": {},
   "outputs": [
    {
     "name": "stderr",
     "output_type": "stream",
     "text": [
      "/tmp/ipykernel_3155/44800560.py:1: UserWarning: TypedStorage is deprecated. It will be removed in the future and UntypedStorage will be the only storage class. This should only matter to you if you are using storages directly.  To access UntypedStorage directly, use tensor.untyped_storage() instead of tensor.storage()\n",
      "  view_result.storage().data_ptr() == original.storage().data_ptr()\n"
     ]
    },
    {
     "data": {
      "text/plain": [
       "True"
      ]
     },
     "execution_count": 15,
     "metadata": {},
     "output_type": "execute_result"
    }
   ],
   "source": [
    "view_result.storage().data_ptr() == original.storage().data_ptr()"
   ]
  },
  {
   "cell_type": "code",
   "execution_count": 27,
   "id": "bc2e1181",
   "metadata": {},
   "outputs": [],
   "source": [
    "tensor_with_ones = torch.randn(1, 3, 1, 4)\n",
    "squeezed_all = tensor_with_ones.squeeze() \n",
    "squeezed_specific = tensor_with_ones.squeeze(0) \n",
    "flat_tensor = torch.tensor([1, 2, 3, 4])\n",
    "unsqueezed_0 = flat_tensor.unsqueeze(0) \n",
    "unsqueezed_1 = flat_tensor.unsqueeze(1) "
   ]
  },
  {
   "cell_type": "code",
   "execution_count": 28,
   "id": "c72fb002",
   "metadata": {},
   "outputs": [
    {
     "data": {
      "text/plain": [
       "torch.Size([4, 1])"
      ]
     },
     "execution_count": 28,
     "metadata": {},
     "output_type": "execute_result"
    }
   ],
   "source": [
    "unsqueezed_1.shape"
   ]
  },
  {
   "cell_type": "code",
   "execution_count": 34,
   "id": "78d9ca99",
   "metadata": {},
   "outputs": [],
   "source": [
    "matrix_3d = torch.randn(2, 3, 4)\n",
    "transposed_01 = matrix_3d.transpose(0, 1)\n",
    "transposed_12 = matrix_3d.transpose(1, 2)"
   ]
  },
  {
   "cell_type": "code",
   "execution_count": 35,
   "id": "e8518c72",
   "metadata": {},
   "outputs": [
    {
     "data": {
      "text/plain": [
       "torch.Size([2, 4, 3])"
      ]
     },
     "execution_count": 35,
     "metadata": {},
     "output_type": "execute_result"
    }
   ],
   "source": [
    "transposed_12.shape"
   ]
  },
  {
   "cell_type": "code",
   "execution_count": 40,
   "id": "80264647",
   "metadata": {},
   "outputs": [],
   "source": [
    "matrix_2d = torch.randn(3, 4)\n",
    "matrix_3d = torch.randn(3, 4, 5)"
   ]
  },
  {
   "cell_type": "code",
   "execution_count": 41,
   "id": "a0a9408a",
   "metadata": {},
   "outputs": [
    {
     "data": {
      "text/plain": [
       "torch.Size([4, 3])"
      ]
     },
     "execution_count": 41,
     "metadata": {},
     "output_type": "execute_result"
    }
   ],
   "source": [
    "matrix_2d.T.shape"
   ]
  },
  {
   "cell_type": "code",
   "execution_count": 42,
   "id": "afa65ebc",
   "metadata": {},
   "outputs": [
    {
     "data": {
      "text/plain": [
       "torch.Size([5, 4, 3])"
      ]
     },
     "execution_count": 42,
     "metadata": {},
     "output_type": "execute_result"
    }
   ],
   "source": [
    "matrix_3d.T.shape"
   ]
  },
  {
   "cell_type": "code",
   "execution_count": 43,
   "id": "81c7fe2a",
   "metadata": {},
   "outputs": [],
   "source": [
    "tensor_4d = torch.randn(2, 3, 4, 5) "
   ]
  },
  {
   "cell_type": "code",
   "execution_count": 44,
   "id": "071414a0",
   "metadata": {},
   "outputs": [
    {
     "data": {
      "text/plain": [
       "torch.Size([2, 3, 4, 5])"
      ]
     },
     "execution_count": 44,
     "metadata": {},
     "output_type": "execute_result"
    }
   ],
   "source": [
    "tensor_4d.shape"
   ]
  },
  {
   "cell_type": "code",
   "execution_count": 45,
   "id": "b7e3e94e",
   "metadata": {},
   "outputs": [],
   "source": [
    "permuted = tensor_4d.permute(0, 2, 3, 1)"
   ]
  },
  {
   "cell_type": "code",
   "execution_count": 46,
   "id": "2aa45a82",
   "metadata": {},
   "outputs": [
    {
     "data": {
      "text/plain": [
       "torch.Size([2, 4, 5, 3])"
      ]
     },
     "execution_count": 46,
     "metadata": {},
     "output_type": "execute_result"
    }
   ],
   "source": [
    "permuted.shape"
   ]
  },
  {
   "cell_type": "code",
   "execution_count": 49,
   "id": "028790ff",
   "metadata": {},
   "outputs": [
    {
     "name": "stdout",
     "output_type": "stream",
     "text": [
      "QKV after linear: torch.Size([8, 64, 512])\n",
      "After view: torch.Size([8, 64, 8, 64])\n",
      "Ready for attention: torch.Size([8, 8, 64, 64])\n",
      "Ready for attention: torch.Size([8, 8, 64, 64])\n"
     ]
    }
   ],
   "source": [
    "# Typical MHA tensor manipulation\n",
    "batch_size, seq_len, d_model = 8, 64, 512\n",
    "num_heads = 8\n",
    "d_k = d_model // num_heads  # 64\n",
    "\n",
    "# Start with QKV projection: [batch, seq_len, d_model]\n",
    "qkv = torch.randn(batch_size, seq_len, d_model)\n",
    "print(f\"QKV after linear: {qkv.shape}\")\n",
    "\n",
    "# Reshape for multi-head: [batch, seq_len, num_heads, d_k]\n",
    "qkv_reshaped = qkv.view(batch_size, seq_len, num_heads, d_k)\n",
    "print(f\"After view: {qkv_reshaped.shape}\")\n",
    "\n",
    "# Permute for attention: [batch, num_heads, seq_len, d_k]\n",
    "qkv_heads = qkv_reshaped.permute(0, 2, 1, 3)\n",
    "print(f\"Ready for attention: {qkv_heads.shape}\")\n",
    "\n",
    "qkv_heads_2 = qkv_reshaped.transpose(1,2)\n",
    "print(f\"Ready for attention: {qkv_heads_2.shape}\")"
   ]
  },
  {
   "cell_type": "code",
   "execution_count": 50,
   "id": "e65c91f6",
   "metadata": {},
   "outputs": [
    {
     "name": "stdout",
     "output_type": "stream",
     "text": [
      "a shape: torch.Size([1, 3]), b shape: torch.Size([2, 1])\n",
      "a + b result shape: torch.Size([2, 3])\n",
      "Result:\n",
      "tensor([[11, 12, 13],\n",
      "        [21, 22, 23]])\n"
     ]
    }
   ],
   "source": [
    "# Example 1: Simple broadcasting\n",
    "a = torch.tensor([[1, 2, 3]])      # Shape: [1, 3]\n",
    "b = torch.tensor([[10], [20]])     # Shape: [2, 1]\n",
    "print(f\"a shape: {a.shape}, b shape: {b.shape}\")\n",
    "\n",
    "result = a + b  # Broadcasting happens automatically!\n",
    "print(f\"a + b result shape: {result.shape}\")  # [2, 3]\n",
    "print(f\"Result:\\n{result}\")"
   ]
  },
  {
   "cell_type": "code",
   "execution_count": 51,
   "id": "36f37af4",
   "metadata": {},
   "outputs": [],
   "source": [
    "batch_data = torch.randn(32, 128) "
   ]
  },
  {
   "cell_type": "code",
   "execution_count": 54,
   "id": "9db9fea4",
   "metadata": {},
   "outputs": [],
   "source": [
    "feature_means = batch_data.mean(dim=0)"
   ]
  },
  {
   "cell_type": "code",
   "execution_count": 55,
   "id": "f65ce508",
   "metadata": {},
   "outputs": [
    {
     "data": {
      "text/plain": [
       "tensor([[-0.0651,  0.6025,  0.6433,  ...,  1.6740,  0.6755,  0.7387],\n",
       "        [ 0.0386, -0.7955, -0.0962,  ...,  2.0278, -0.8624,  0.2316],\n",
       "        [-0.7473, -0.7148,  0.2747,  ..., -0.3831, -0.1056, -1.4825],\n",
       "        ...,\n",
       "        [-0.3272, -0.7459,  0.7304,  ..., -2.3532,  0.5779,  0.6807],\n",
       "        [ 0.6250, -1.1045, -0.1783,  ..., -0.4000, -2.7129, -1.0485],\n",
       "        [-0.4027,  0.4177, -0.3061,  ...,  1.1337,  1.7997, -1.4449]])"
      ]
     },
     "execution_count": 55,
     "metadata": {},
     "output_type": "execute_result"
    }
   ],
   "source": [
    "batch_data - feature_means"
   ]
  },
  {
   "cell_type": "code",
   "execution_count": 56,
   "id": "57c8f202",
   "metadata": {},
   "outputs": [],
   "source": [
    "tensor_a = torch.tensor([[1, 2], [3, 4]])       # [2, 2]\n",
    "tensor_b = torch.tensor([[5, 6], [7, 8]])       # [2, 2]\n",
    "tensor_c = torch.tensor([[9, 10]])              # [1, 2]"
   ]
  },
  {
   "cell_type": "code",
   "execution_count": 57,
   "id": "d8192bc6",
   "metadata": {},
   "outputs": [
    {
     "data": {
      "text/plain": [
       "torch.Size([4, 2])"
      ]
     },
     "execution_count": 57,
     "metadata": {},
     "output_type": "execute_result"
    }
   ],
   "source": [
    "cat_dim0 = torch.cat([tensor_a, tensor_b], dim=0)\n",
    "cat_dim0.shape"
   ]
  },
  {
   "cell_type": "code",
   "execution_count": 59,
   "id": "a0efcedc",
   "metadata": {},
   "outputs": [
    {
     "data": {
      "text/plain": [
       "torch.Size([2, 4])"
      ]
     },
     "execution_count": 59,
     "metadata": {},
     "output_type": "execute_result"
    }
   ],
   "source": [
    "cat_dim1 = torch.cat([tensor_a, tensor_b], dim=1)\n",
    "cat_dim1.shape"
   ]
  },
  {
   "cell_type": "code",
   "execution_count": 61,
   "id": "e95a0515",
   "metadata": {},
   "outputs": [
    {
     "data": {
      "text/plain": [
       "torch.Size([3, 2])"
      ]
     },
     "execution_count": 61,
     "metadata": {},
     "output_type": "execute_result"
    }
   ],
   "source": [
    "cat_mixed = torch.cat([tensor_a, tensor_c], dim=0)\n",
    "cat_mixed.shape"
   ]
  },
  {
   "cell_type": "code",
   "execution_count": 66,
   "id": "468ebdc8",
   "metadata": {},
   "outputs": [
    {
     "data": {
      "text/plain": [
       "tensor([[1, 2],\n",
       "        [3, 4]])"
      ]
     },
     "execution_count": 66,
     "metadata": {},
     "output_type": "execute_result"
    }
   ],
   "source": [
    "tensor_a"
   ]
  },
  {
   "cell_type": "code",
   "execution_count": 67,
   "id": "41b88f9d",
   "metadata": {},
   "outputs": [
    {
     "data": {
      "text/plain": [
       "tensor([[5, 6],\n",
       "        [7, 8]])"
      ]
     },
     "execution_count": 67,
     "metadata": {},
     "output_type": "execute_result"
    }
   ],
   "source": [
    "tensor_b"
   ]
  },
  {
   "cell_type": "code",
   "execution_count": 71,
   "id": "af73f82f",
   "metadata": {},
   "outputs": [
    {
     "data": {
      "text/plain": [
       "tensor([[[1, 2],\n",
       "         [3, 4]],\n",
       "\n",
       "        [[5, 6],\n",
       "         [7, 8]]])"
      ]
     },
     "execution_count": 71,
     "metadata": {},
     "output_type": "execute_result"
    }
   ],
   "source": [
    "stack_dim0 = torch.stack([tensor_a, tensor_b], dim=0)\n",
    "stack_dim0"
   ]
  },
  {
   "cell_type": "code",
   "execution_count": 72,
   "id": "030ceba8",
   "metadata": {},
   "outputs": [
    {
     "data": {
      "text/plain": [
       "tensor([[[1, 2],\n",
       "         [5, 6]],\n",
       "\n",
       "        [[3, 4],\n",
       "         [7, 8]]])"
      ]
     },
     "execution_count": 72,
     "metadata": {},
     "output_type": "execute_result"
    }
   ],
   "source": [
    "stack_dim1 = torch.stack([tensor_a, tensor_b], dim=1)\n",
    "stack_dim1"
   ]
  },
  {
   "cell_type": "code",
   "execution_count": 73,
   "id": "f630ea09",
   "metadata": {},
   "outputs": [
    {
     "name": "stdout",
     "output_type": "stream",
     "text": [
      "Original contiguous: True\n",
      "After transpose contiguous: False\n",
      "After .contiguous(): True\n"
     ]
    }
   ],
   "source": [
    "# Contiguous memory and when it matters\n",
    "x = torch.randn(4, 3, 2)\n",
    "y = x.transpose(1, 2)  # Creates a view, but not contiguous\n",
    "print(f\"Original contiguous: {x.is_contiguous()}\")\n",
    "print(f\"After transpose contiguous: {y.is_contiguous()}\")\n",
    "\n",
    "# Make contiguous when needed\n",
    "y_contiguous = y.contiguous()\n",
    "print(f\"After .contiguous(): {y_contiguous.is_contiguous()}\")"
   ]
  },
  {
   "cell_type": "code",
   "execution_count": 74,
   "id": "9a9410e3",
   "metadata": {},
   "outputs": [
    {
     "name": "stdout",
     "output_type": "stream",
     "text": [
      "Matmul equal einsum: True\n"
     ]
    }
   ],
   "source": [
    "# Powerful way to express tensor operations\n",
    "A = torch.randn(3, 4)\n",
    "B = torch.randn(4, 5)\n",
    "\n",
    "# Matrix multiplication: (3,4) @ (4,5) -> (3,5)\n",
    "result_matmul = torch.matmul(A, B)\n",
    "result_einsum = torch.einsum('ij,jk->ik', A, B)\n",
    "print(f\"Matmul equal einsum: {torch.allclose(result_matmul, result_einsum)}\")\n"
   ]
  },
  {
   "cell_type": "code",
   "execution_count": null,
   "id": "ca49c182",
   "metadata": {},
   "outputs": [],
   "source": []
  }
 ],
 "metadata": {
  "kernelspec": {
   "display_name": "pytorch_gpu_0712",
   "language": "python",
   "name": "python3"
  },
  "language_info": {
   "codemirror_mode": {
    "name": "ipython",
    "version": 3
   },
   "file_extension": ".py",
   "mimetype": "text/x-python",
   "name": "python",
   "nbconvert_exporter": "python",
   "pygments_lexer": "ipython3",
   "version": "3.10.18"
  }
 },
 "nbformat": 4,
 "nbformat_minor": 5
}
